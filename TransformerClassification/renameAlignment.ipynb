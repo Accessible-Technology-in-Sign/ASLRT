{
 "cells": [
  {
   "cell_type": "code",
   "execution_count": null,
   "metadata": {},
   "outputs": [],
   "source": [
    "from google.colab import drive\n",
    "drive.mount('/content/drive', force_remount=True)\n",
    "%cd drive/My Drive/Deep-Learning-for-ASLR/data/alignment\n",
    "!pwd"
   ]
  },
  {
   "cell_type": "code",
   "execution_count": null,
   "metadata": {},
   "outputs": [],
   "source": [
    "import os\n",
    "import sys\n",
    "import glob\n",
    "import tqdm\n",
    "\n",
    "users = ['p1', 'p2', 'p3', 'p4', 'p5', 'p6', 'p7', 'p8']\n",
    "\n",
    "def renameFolders():\n",
    "    folds = glob.glob(\"/content/drive/My Drive/Deep-Learning-for-ASLR/data/alignment/*/\")\n",
    "    for fold in folds:\n",
    "        curr_alignment = glob.glob(os.path.join(fold, \"*.mlf\"))[0]\n",
    "        curr_alignment_file = \"\".join(open(curr_alignment, 'r').readlines())\n",
    "        curr_user = \"\"\n",
    "        for user in users:\n",
    "            if user not in curr_alignment_file:\n",
    "                curr_user = user\n",
    "        fold_array = fold.split('/')\n",
    "        fold_array[-2] = curr_user\n",
    "        new_fold = \"/\".join(fold_array)\n",
    "        os.rename(fold, new_fold)\n",
    "renameFolders()"
   ]
  }
 ],
 "metadata": {
  "colab": {
   "authorship_tag": "ABX9TyMr07ClGhvdJNI3WowdC3a5",
   "collapsed_sections": [],
   "include_colab_link": true,
   "name": "renameAlignment.ipynb",
   "provenance": []
  },
  "kernelspec": {
   "display_name": "Python 3",
   "name": "python3"
  }
 },
 "nbformat": 4,
 "nbformat_minor": 0
}
